{
 "cells": [
  {
   "cell_type": "code",
   "execution_count": 1,
   "id": "4e2fe52c-f5c2-4258-b908-c15d09519063",
   "metadata": {},
   "outputs": [
    {
     "name": "stdout",
     "output_type": "stream",
     "text": [
      "\n",
      "     active environment : ml_venv\n",
      "    active env location : C:\\Users\\Shan\\.conda\\envs\\ml_venv\n",
      "            shell level : 1\n",
      "       user config file : C:\\Users\\Shan\\.condarc\n",
      " populated config files : C:\\ProgramData\\anaconda3\\.condarc\n",
      "                          C:\\Users\\Shan\\.condarc\n",
      "          conda version : 24.9.2\n",
      "    conda-build version : 24.9.0\n",
      "         python version : 3.12.7.final.0\n",
      "                 solver : libmamba (default)\n",
      "       virtual packages : __archspec=1=skylake\n",
      "                          __conda=24.9.2=0\n",
      "                          __cuda=12.8=0\n",
      "                          __win=0=0\n",
      "       base environment : C:\\ProgramData\\anaconda3  (read only)\n",
      "      conda av data dir : C:\\ProgramData\\anaconda3\\etc\\conda\n",
      "  conda av metadata url : None\n",
      "           channel URLs : https://repo.anaconda.com/pkgs/main/win-64\n",
      "                          https://repo.anaconda.com/pkgs/main/noarch\n",
      "                          https://repo.anaconda.com/pkgs/r/win-64\n",
      "                          https://repo.anaconda.com/pkgs/r/noarch\n",
      "                          https://repo.anaconda.com/pkgs/msys2/win-64\n",
      "                          https://repo.anaconda.com/pkgs/msys2/noarch\n",
      "          package cache : C:\\ProgramData\\anaconda3\\pkgs\n",
      "                          C:\\Users\\Shan\\.conda\\pkgs\n",
      "                          C:\\Users\\Shan\\AppData\\Local\\conda\\conda\\pkgs\n",
      "       envs directories : C:\\Users\\Shan\\.conda\\envs\n",
      "                          C:\\ProgramData\\anaconda3\\envs\n",
      "                          C:\\Users\\Shan\\AppData\\Local\\conda\\conda\\envs\n",
      "               platform : win-64\n",
      "             user-agent : conda/24.9.2 requests/2.32.3 CPython/3.12.7 Windows/10 Windows/10.0.19045 solver/libmamba conda-libmamba-solver/24.9.0 libmambapy/1.5.8 aau/0.4.4 c/. s/. e/.\n",
      "          administrator : False\n",
      "             netrc file : None\n",
      "           offline mode : False\n",
      "\n",
      "\n"
     ]
    }
   ],
   "source": [
    "!conda info"
   ]
  },
  {
   "cell_type": "code",
   "execution_count": 2,
   "id": "35c154bc-f244-4907-9289-4bbbf4f1ac23",
   "metadata": {},
   "outputs": [
    {
     "name": "stderr",
     "output_type": "stream",
     "text": [
      "openjdk version \"11.0.27\" 2025-04-15\n",
      "OpenJDK Runtime Environment Temurin-11.0.27+6 (build 11.0.27+6)\n",
      "OpenJDK 64-Bit Server VM Temurin-11.0.27+6 (build 11.0.27+6, mixed mode)\n"
     ]
    }
   ],
   "source": [
    "!java -version"
   ]
  },
  {
   "cell_type": "code",
   "execution_count": 3,
   "id": "286e186f-af15-4413-83c2-5381ffb193e7",
   "metadata": {},
   "outputs": [],
   "source": [
    "from pyspark.sql import SparkSession"
   ]
  },
  {
   "cell_type": "code",
   "execution_count": 4,
   "id": "abcd94cd-ae9e-4b72-a4ba-9b0eba1b3d0c",
   "metadata": {},
   "outputs": [],
   "source": [
    "spark = SparkSession.builder.appName('LoanData').getOrCreate()"
   ]
  },
  {
   "cell_type": "code",
   "execution_count": 5,
   "id": "4cdd5096-33ac-4ada-aae3-332f62851383",
   "metadata": {},
   "outputs": [
    {
     "data": {
      "text/html": [
       "\n",
       "            <div>\n",
       "                <p><b>SparkSession - in-memory</b></p>\n",
       "                \n",
       "        <div>\n",
       "            <p><b>SparkContext</b></p>\n",
       "\n",
       "            <p><a href=\"http://DESKTOP-DACV4OJ:4041\">Spark UI</a></p>\n",
       "\n",
       "            <dl>\n",
       "              <dt>Version</dt>\n",
       "                <dd><code>v3.5.0</code></dd>\n",
       "              <dt>Master</dt>\n",
       "                <dd><code>local[*]</code></dd>\n",
       "              <dt>AppName</dt>\n",
       "                <dd><code>LoanData</code></dd>\n",
       "            </dl>\n",
       "        </div>\n",
       "        \n",
       "            </div>\n",
       "        "
      ],
      "text/plain": [
       "<pyspark.sql.session.SparkSession at 0x1d33b91e750>"
      ]
     },
     "execution_count": 5,
     "metadata": {},
     "output_type": "execute_result"
    }
   ],
   "source": [
    "spark"
   ]
  },
  {
   "cell_type": "code",
   "execution_count": 6,
   "id": "b01c02f5-99e7-40f1-832d-01b734bccec8",
   "metadata": {},
   "outputs": [
    {
     "name": "stdout",
     "output_type": "stream",
     "text": [
      "+---+------------------+-----------------+------------------+--------------+------------------+---+--------+\n",
      "|_c0|            income|     credit_score|       loan_amount|years_employed|    debt_to_income|age|approved|\n",
      "+---+------------------+-----------------+------------------+--------------+------------------+---+--------+\n",
      "|  0|57.450712295168486| 696.308877376582| 43.99355436586002|            27|21.223491386654434| 22|       1|\n",
      "|  1| 47.92603548243223|745.4708320235065|39.246336829127685|            27|24.836012237442116| 18|       1|\n",
      "|  2|59.715328071510385|580.0716213090429| 30.59630369920174|            18|20.943750087879337| 34|       0|\n",
      "|  3| 72.84544784612038|678.1484618345286|23.530632222944263|            16| 24.32608764281806| 39|       1|\n",
      "|  4| 46.48769937914996|617.4678715439087|36.982233136135896|            13|30.408692224813464| 51|       1|\n",
      "|  5|46.487945645762295|625.6437308117652|33.934853854217494|            18|33.847510547633135| 62|       1|\n",
      "|  6| 73.68819223261087|620.3803037880565| 38.95193220027733|            21| 35.03213199739024| 58|       0|\n",
      "|  7| 61.51152093729363|606.8004615160092|36.351718016819696|            23|45.568522207310195| 46|       0|\n",
      "|  8| 42.95788421097572|652.4260813972413| 40.49552715319335|            12| 30.69359446172438| 21|       1|\n",
      "|  9| 58.13840065378947|608.4524941794481| 24.64764788439432|            11| 47.34478901349309| 22|       0|\n",
      "| 10| 43.04873460781307|663.5228412889919|43.173940656343255|            29| 17.23518191940357| 28|       0|\n",
      "| 11| 43.01405369644615|647.4880945275431|31.975996046923996|            25| 45.91284902424585| 68|       0|\n",
      "| 12|53.629434073490515|638.0525976566795| 50.75260872625265|             5|21.196239457804097| 38|       1|\n",
      "| 13|21.300796330133032|604.6218168979201| 23.10812181910432|            20|22.179810692369646| 52|       0|\n",
      "| 14|24.126232512304508|621.1614334715833|47.359638031652494|             3|23.801274525771266| 29|       0|\n",
      "| 15| 41.56568706138541|687.7695612912878| 31.97910783462648|            18| 22.81379288841269| 43|       1|\n",
      "| 16| 34.80753319498364|675.0458593812191|23.485819963855516|            15| 25.85840396726503| 68|       1|\n",
      "| 17| 54.71370998892911|601.1222377600725|25.161141659456785|            12|19.199719975115606| 36|       1|\n",
      "| 18| 36.37963886718184|654.9666152714613|  26.7965269180568|             3|33.299621730713724| 62|       1|\n",
      "| 19|28.815444479970626|687.5693561685895|34.241659464019165|            29|19.471649653788205| 24|       0|\n",
      "+---+------------------+-----------------+------------------+--------------+------------------+---+--------+\n",
      "only showing top 20 rows\n",
      "\n"
     ]
    }
   ],
   "source": [
    "df= spark.read.csv('loan_data.csv',header=True, inferSchema=True)\n",
    "df.show()"
   ]
  },
  {
   "cell_type": "code",
   "execution_count": 9,
   "id": "1fd52b7c-0895-4816-a19d-5419271d706f",
   "metadata": {},
   "outputs": [
    {
     "data": {
      "text/plain": [
       "DataFrame[summary: string, _c0: string, income: string, credit_score: string, loan_amount: string, years_employed: string, debt_to_income: string, age: string, approved: string]"
      ]
     },
     "execution_count": 9,
     "metadata": {},
     "output_type": "execute_result"
    }
   ],
   "source": [
    "df.describe()"
   ]
  },
  {
   "cell_type": "code",
   "execution_count": 10,
   "id": "74b5bf43-4644-472a-aa8f-3916dfe78587",
   "metadata": {},
   "outputs": [
    {
     "name": "stdout",
     "output_type": "stream",
     "text": [
      "+------------------+-----------------+------------------+--------------+------------------+---+--------+\n",
      "|            income|     credit_score|       loan_amount|years_employed|    debt_to_income|age|approved|\n",
      "+------------------+-----------------+------------------+--------------+------------------+---+--------+\n",
      "|57.450712295168486| 696.308877376582| 43.99355436586002|            27|21.223491386654434| 22|       1|\n",
      "| 47.92603548243223|745.4708320235065|39.246336829127685|            27|24.836012237442116| 18|       1|\n",
      "|59.715328071510385|580.0716213090429| 30.59630369920174|            18|20.943750087879337| 34|       0|\n",
      "| 72.84544784612038|678.1484618345286|23.530632222944263|            16| 24.32608764281806| 39|       1|\n",
      "| 46.48769937914996|617.4678715439087|36.982233136135896|            13|30.408692224813464| 51|       1|\n",
      "|46.487945645762295|625.6437308117652|33.934853854217494|            18|33.847510547633135| 62|       1|\n",
      "| 73.68819223261087|620.3803037880565| 38.95193220027733|            21| 35.03213199739024| 58|       0|\n",
      "| 61.51152093729363|606.8004615160092|36.351718016819696|            23|45.568522207310195| 46|       0|\n",
      "| 42.95788421097572|652.4260813972413| 40.49552715319335|            12| 30.69359446172438| 21|       1|\n",
      "| 58.13840065378947|608.4524941794481| 24.64764788439432|            11| 47.34478901349309| 22|       0|\n",
      "| 43.04873460781307|663.5228412889919|43.173940656343255|            29| 17.23518191940357| 28|       0|\n",
      "| 43.01405369644615|647.4880945275431|31.975996046923996|            25| 45.91284902424585| 68|       0|\n",
      "|53.629434073490515|638.0525976566795| 50.75260872625265|             5|21.196239457804097| 38|       1|\n",
      "|21.300796330133032|604.6218168979201| 23.10812181910432|            20|22.179810692369646| 52|       0|\n",
      "|24.126232512304508|621.1614334715833|47.359638031652494|             3|23.801274525771266| 29|       0|\n",
      "| 41.56568706138541|687.7695612912878| 31.97910783462648|            18| 22.81379288841269| 43|       1|\n",
      "| 34.80753319498364|675.0458593812191|23.485819963855516|            15| 25.85840396726503| 68|       1|\n",
      "| 54.71370998892911|601.1222377600725|25.161141659456785|            12|19.199719975115606| 36|       1|\n",
      "| 36.37963886718184|654.9666152714613|  26.7965269180568|             3|33.299621730713724| 62|       1|\n",
      "|28.815444479970626|687.5693561685895|34.241659464019165|            29|19.471649653788205| 24|       0|\n",
      "+------------------+-----------------+------------------+--------------+------------------+---+--------+\n",
      "only showing top 20 rows\n",
      "\n"
     ]
    }
   ],
   "source": [
    "df = df.drop('_c0')\n",
    "df.show()"
   ]
  },
  {
   "cell_type": "code",
   "execution_count": 13,
   "id": "3141d6a4-941e-4fc3-8dd0-f2f61523ea45",
   "metadata": {},
   "outputs": [
    {
     "data": {
      "text/plain": [
       "500"
      ]
     },
     "execution_count": 13,
     "metadata": {},
     "output_type": "execute_result"
    }
   ],
   "source": [
    "total_rows = df.count()\n",
    "total_rows"
   ]
  },
  {
   "cell_type": "code",
   "execution_count": 14,
   "id": "be9efb01-5bed-4374-98bf-5ad7796e2a73",
   "metadata": {},
   "outputs": [
    {
     "data": {
      "text/plain": [
       "7"
      ]
     },
     "execution_count": 14,
     "metadata": {},
     "output_type": "execute_result"
    }
   ],
   "source": [
    "len(df.columns)"
   ]
  },
  {
   "cell_type": "code",
   "execution_count": 15,
   "id": "74580215-6095-42bf-864a-06a8894db82e",
   "metadata": {},
   "outputs": [
    {
     "name": "stdout",
     "output_type": "stream",
     "text": [
      "+--------+-----+\n",
      "|approved|count|\n",
      "+--------+-----+\n",
      "|       1|  297|\n",
      "|       0|  203|\n",
      "+--------+-----+\n",
      "\n"
     ]
    }
   ],
   "source": [
    "df.groupBy('approved').count().show()"
   ]
  },
  {
   "cell_type": "code",
   "execution_count": 17,
   "id": "44445b68-3acf-4a52-8e80-679d4b667a5e",
   "metadata": {},
   "outputs": [
    {
     "name": "stdout",
     "output_type": "stream",
     "text": [
      "+--------+-----+\n",
      "|approved|count|\n",
      "+--------+-----+\n",
      "|       1|  297|\n",
      "|       0|  203|\n",
      "+--------+-----+\n",
      "\n"
     ]
    }
   ],
   "source": [
    "class_count = df.groupBy('approved').count()\n",
    "class_count.show()"
   ]
  },
  {
   "cell_type": "code",
   "execution_count": 19,
   "id": "28e230b8-3b9e-4e72-8f95-2cd1d7d9ce49",
   "metadata": {},
   "outputs": [],
   "source": [
    "class_count_df = class_count.withColumn('percentage',class_count['count']/total_rows*100)"
   ]
  },
  {
   "cell_type": "code",
   "execution_count": 20,
   "id": "66b6fabb-3cf2-43bf-96d3-3a4aa97f4d4e",
   "metadata": {},
   "outputs": [
    {
     "name": "stdout",
     "output_type": "stream",
     "text": [
      "+--------+-----+----------+\n",
      "|approved|count|percentage|\n",
      "+--------+-----+----------+\n",
      "|       1|  297|      59.4|\n",
      "|       0|  203|      40.6|\n",
      "+--------+-----+----------+\n",
      "\n"
     ]
    }
   ],
   "source": [
    "class_count_df.show()"
   ]
  },
  {
   "cell_type": "code",
   "execution_count": 21,
   "id": "8219dd2f-a1e2-4140-b190-1cd97dd0a23c",
   "metadata": {},
   "outputs": [
    {
     "name": "stdout",
     "output_type": "stream",
     "text": [
      "+--------+------------------+\n",
      "|approved|          avg(age)|\n",
      "+--------+------------------+\n",
      "|       1|42.861952861952865|\n",
      "|       0| 43.68472906403941|\n",
      "+--------+------------------+\n",
      "\n"
     ]
    }
   ],
   "source": [
    "df.groupBy('approved').avg('age').show()"
   ]
  },
  {
   "cell_type": "code",
   "execution_count": 22,
   "id": "3dd460f6-22b4-409f-9e05-a047dda204df",
   "metadata": {},
   "outputs": [
    {
     "name": "stdout",
     "output_type": "stream",
     "text": [
      "+--------+-------------------+\n",
      "|approved|avg(years_employed)|\n",
      "+--------+-------------------+\n",
      "|       1| 14.878787878787879|\n",
      "|       0|  14.64039408866995|\n",
      "+--------+-------------------+\n",
      "\n"
     ]
    }
   ],
   "source": [
    "df.groupBy('approved').avg('years_employed').show()"
   ]
  },
  {
   "cell_type": "markdown",
   "id": "623cdbd4-4295-428d-aa74-160704b56ce4",
   "metadata": {},
   "source": [
    "####  find out how many applicants with loan amounts greater than their income were approved or not."
   ]
  },
  {
   "cell_type": "code",
   "execution_count": 32,
   "id": "cab758d8-dde4-467e-992c-799e62c815f4",
   "metadata": {},
   "outputs": [
    {
     "name": "stdout",
     "output_type": "stream",
     "text": [
      "+--------+-----+\n",
      "|approved|count|\n",
      "+--------+-----+\n",
      "|       0|   76|\n",
      "+--------+-----+\n",
      "\n"
     ]
    }
   ],
   "source": [
    "filtered_df=df.filter(df['income']<df['loan_amount'])\n",
    "filtered_df.groupBy('approved').count().show()"
   ]
  },
  {
   "cell_type": "markdown",
   "id": "a6832210-ea9d-481a-8878-19b32dd953af",
   "metadata": {},
   "source": [
    "#### calculate the average age of applicants who are older than 20 years and whose loan amount exceeds their income."
   ]
  },
  {
   "cell_type": "code",
   "execution_count": 35,
   "id": "ff6e58e4-745e-402d-b3b4-322755886ba6",
   "metadata": {},
   "outputs": [
    {
     "name": "stdout",
     "output_type": "stream",
     "text": [
      "+-----------------+\n",
      "|         avg(age)|\n",
      "+-----------------+\n",
      "|45.21917808219178|\n",
      "+-----------------+\n",
      "\n"
     ]
    }
   ],
   "source": [
    "filtered_df1= df.filter((df['loan_amount']>df['income'])&(df['age']>20))\n",
    "filtered_df1.agg({'age':'avg'}).show()"
   ]
  },
  {
   "cell_type": "markdown",
   "id": "a3583aea-90e1-49c3-b2c4-9bef196b7875",
   "metadata": {},
   "source": [
    "# Model Building"
   ]
  },
  {
   "cell_type": "code",
   "execution_count": 36,
   "id": "eed9a04c-0ba1-4846-86f2-0a3fd706ee31",
   "metadata": {},
   "outputs": [
    {
     "data": {
      "text/plain": [
       "['income',\n",
       " 'credit_score',\n",
       " 'loan_amount',\n",
       " 'years_employed',\n",
       " 'debt_to_income',\n",
       " 'age',\n",
       " 'approved']"
      ]
     },
     "execution_count": 36,
     "metadata": {},
     "output_type": "execute_result"
    }
   ],
   "source": [
    "df.columns"
   ]
  },
  {
   "cell_type": "code",
   "execution_count": 37,
   "id": "b1ac515f-6398-4b4e-b6a9-245dbd15a7c7",
   "metadata": {},
   "outputs": [],
   "source": [
    "from pyspark.ml.feature import VectorAssembler"
   ]
  },
  {
   "cell_type": "code",
   "execution_count": 39,
   "id": "4cfeea12-26bf-47f3-a50b-8dce399b1340",
   "metadata": {},
   "outputs": [
    {
     "data": {
      "text/plain": [
       "VectorAssembler_f168dbf6e29a"
      ]
     },
     "execution_count": 39,
     "metadata": {},
     "output_type": "execute_result"
    }
   ],
   "source": [
    "assembler = VectorAssembler(inputCols=['income',\n",
    " 'credit_score',\n",
    " 'loan_amount',\n",
    " 'years_employed',\n",
    " 'debt_to_income',\n",
    " 'age'],\n",
    "outputCol='features' )\n",
    "assembler"
   ]
  },
  {
   "cell_type": "code",
   "execution_count": 40,
   "id": "af2f284d-827d-4d2b-86a1-6ece7a38ee65",
   "metadata": {},
   "outputs": [
    {
     "name": "stdout",
     "output_type": "stream",
     "text": [
      "+------------------+-----------------+------------------+--------------+------------------+---+--------+--------------------+\n",
      "|            income|     credit_score|       loan_amount|years_employed|    debt_to_income|age|approved|            features|\n",
      "+------------------+-----------------+------------------+--------------+------------------+---+--------+--------------------+\n",
      "|57.450712295168486| 696.308877376582| 43.99355436586002|            27|21.223491386654434| 22|       1|[57.4507122951684...|\n",
      "| 47.92603548243223|745.4708320235065|39.246336829127685|            27|24.836012237442116| 18|       1|[47.9260354824322...|\n",
      "|59.715328071510385|580.0716213090429| 30.59630369920174|            18|20.943750087879337| 34|       0|[59.7153280715103...|\n",
      "| 72.84544784612038|678.1484618345286|23.530632222944263|            16| 24.32608764281806| 39|       1|[72.8454478461203...|\n",
      "| 46.48769937914996|617.4678715439087|36.982233136135896|            13|30.408692224813464| 51|       1|[46.4876993791499...|\n",
      "|46.487945645762295|625.6437308117652|33.934853854217494|            18|33.847510547633135| 62|       1|[46.4879456457622...|\n",
      "| 73.68819223261087|620.3803037880565| 38.95193220027733|            21| 35.03213199739024| 58|       0|[73.6881922326108...|\n",
      "| 61.51152093729363|606.8004615160092|36.351718016819696|            23|45.568522207310195| 46|       0|[61.5115209372936...|\n",
      "| 42.95788421097572|652.4260813972413| 40.49552715319335|            12| 30.69359446172438| 21|       1|[42.9578842109757...|\n",
      "| 58.13840065378947|608.4524941794481| 24.64764788439432|            11| 47.34478901349309| 22|       0|[58.1384006537894...|\n",
      "| 43.04873460781307|663.5228412889919|43.173940656343255|            29| 17.23518191940357| 28|       0|[43.0487346078130...|\n",
      "| 43.01405369644615|647.4880945275431|31.975996046923996|            25| 45.91284902424585| 68|       0|[43.0140536964461...|\n",
      "|53.629434073490515|638.0525976566795| 50.75260872625265|             5|21.196239457804097| 38|       1|[53.6294340734905...|\n",
      "|21.300796330133032|604.6218168979201| 23.10812181910432|            20|22.179810692369646| 52|       0|[21.3007963301330...|\n",
      "|24.126232512304508|621.1614334715833|47.359638031652494|             3|23.801274525771266| 29|       0|[24.1262325123045...|\n",
      "| 41.56568706138541|687.7695612912878| 31.97910783462648|            18| 22.81379288841269| 43|       1|[41.5656870613854...|\n",
      "| 34.80753319498364|675.0458593812191|23.485819963855516|            15| 25.85840396726503| 68|       1|[34.8075331949836...|\n",
      "| 54.71370998892911|601.1222377600725|25.161141659456785|            12|19.199719975115606| 36|       1|[54.7137099889291...|\n",
      "| 36.37963886718184|654.9666152714613|  26.7965269180568|             3|33.299621730713724| 62|       1|[36.3796388671818...|\n",
      "|28.815444479970626|687.5693561685895|34.241659464019165|            29|19.471649653788205| 24|       0|[28.8154444799706...|\n",
      "+------------------+-----------------+------------------+--------------+------------------+---+--------+--------------------+\n",
      "only showing top 20 rows\n",
      "\n"
     ]
    }
   ],
   "source": [
    "df_with_features = assembler.transform(df)\n",
    "df_with_features.show()"
   ]
  },
  {
   "cell_type": "code",
   "execution_count": 41,
   "id": "70d413cd-2461-4026-afb6-2fac2c7c5cdb",
   "metadata": {},
   "outputs": [
    {
     "name": "stdout",
     "output_type": "stream",
     "text": [
      "+------------------+-----------------+------------------+--------------+------------------+---+--------+--------------------------------------------------------------------------------------+\n",
      "|income            |credit_score     |loan_amount       |years_employed|debt_to_income    |age|approved|features                                                                              |\n",
      "+------------------+-----------------+------------------+--------------+------------------+---+--------+--------------------------------------------------------------------------------------+\n",
      "|57.450712295168486|696.308877376582 |43.99355436586002 |27            |21.223491386654434|22 |1       |[57.450712295168486,696.308877376582,43.99355436586002,27.0,21.223491386654434,22.0]  |\n",
      "|47.92603548243223 |745.4708320235065|39.246336829127685|27            |24.836012237442116|18 |1       |[47.92603548243223,745.4708320235065,39.246336829127685,27.0,24.836012237442116,18.0] |\n",
      "|59.715328071510385|580.0716213090429|30.59630369920174 |18            |20.943750087879337|34 |0       |[59.715328071510385,580.0716213090429,30.59630369920174,18.0,20.943750087879337,34.0] |\n",
      "|72.84544784612038 |678.1484618345286|23.530632222944263|16            |24.32608764281806 |39 |1       |[72.84544784612038,678.1484618345286,23.530632222944263,16.0,24.32608764281806,39.0]  |\n",
      "|46.48769937914996 |617.4678715439087|36.982233136135896|13            |30.408692224813464|51 |1       |[46.48769937914996,617.4678715439087,36.982233136135896,13.0,30.408692224813464,51.0] |\n",
      "|46.487945645762295|625.6437308117652|33.934853854217494|18            |33.847510547633135|62 |1       |[46.487945645762295,625.6437308117652,33.934853854217494,18.0,33.847510547633135,62.0]|\n",
      "|73.68819223261087 |620.3803037880565|38.95193220027733 |21            |35.03213199739024 |58 |0       |[73.68819223261087,620.3803037880565,38.95193220027733,21.0,35.03213199739024,58.0]   |\n",
      "|61.51152093729363 |606.8004615160092|36.351718016819696|23            |45.568522207310195|46 |0       |[61.51152093729363,606.8004615160092,36.351718016819696,23.0,45.568522207310195,46.0] |\n",
      "|42.95788421097572 |652.4260813972413|40.49552715319335 |12            |30.69359446172438 |21 |1       |[42.95788421097572,652.4260813972413,40.49552715319335,12.0,30.69359446172438,21.0]   |\n",
      "|58.13840065378947 |608.4524941794481|24.64764788439432 |11            |47.34478901349309 |22 |0       |[58.13840065378947,608.4524941794481,24.64764788439432,11.0,47.34478901349309,22.0]   |\n",
      "|43.04873460781307 |663.5228412889919|43.173940656343255|29            |17.23518191940357 |28 |0       |[43.04873460781307,663.5228412889919,43.173940656343255,29.0,17.23518191940357,28.0]  |\n",
      "|43.01405369644615 |647.4880945275431|31.975996046923996|25            |45.91284902424585 |68 |0       |[43.01405369644615,647.4880945275431,31.975996046923996,25.0,45.91284902424585,68.0]  |\n",
      "|53.629434073490515|638.0525976566795|50.75260872625265 |5             |21.196239457804097|38 |1       |[53.629434073490515,638.0525976566795,50.75260872625265,5.0,21.196239457804097,38.0]  |\n",
      "|21.300796330133032|604.6218168979201|23.10812181910432 |20            |22.179810692369646|52 |0       |[21.300796330133032,604.6218168979201,23.10812181910432,20.0,22.179810692369646,52.0] |\n",
      "|24.126232512304508|621.1614334715833|47.359638031652494|3             |23.801274525771266|29 |0       |[24.126232512304508,621.1614334715833,47.359638031652494,3.0,23.801274525771266,29.0] |\n",
      "|41.56568706138541 |687.7695612912878|31.97910783462648 |18            |22.81379288841269 |43 |1       |[41.56568706138541,687.7695612912878,31.97910783462648,18.0,22.81379288841269,43.0]   |\n",
      "|34.80753319498364 |675.0458593812191|23.485819963855516|15            |25.85840396726503 |68 |1       |[34.80753319498364,675.0458593812191,23.485819963855516,15.0,25.85840396726503,68.0]  |\n",
      "|54.71370998892911 |601.1222377600725|25.161141659456785|12            |19.199719975115606|36 |1       |[54.71370998892911,601.1222377600725,25.161141659456785,12.0,19.199719975115606,36.0] |\n",
      "|36.37963886718184 |654.9666152714613|26.7965269180568  |3             |33.299621730713724|62 |1       |[36.37963886718184,654.9666152714613,26.7965269180568,3.0,33.299621730713724,62.0]    |\n",
      "|28.815444479970626|687.5693561685895|34.241659464019165|29            |19.471649653788205|24 |0       |[28.815444479970626,687.5693561685895,34.241659464019165,29.0,19.471649653788205,24.0]|\n",
      "+------------------+-----------------+------------------+--------------+------------------+---+--------+--------------------------------------------------------------------------------------+\n",
      "only showing top 20 rows\n",
      "\n"
     ]
    }
   ],
   "source": [
    "df_with_features.show(truncate=False)"
   ]
  },
  {
   "cell_type": "code",
   "execution_count": 42,
   "id": "b8038e92-8eb6-4011-9e97-0de637e4a5f3",
   "metadata": {},
   "outputs": [
    {
     "name": "stdout",
     "output_type": "stream",
     "text": [
      "+--------------------+--------+\n",
      "|            features|approved|\n",
      "+--------------------+--------+\n",
      "|[57.4507122951684...|       1|\n",
      "|[47.9260354824322...|       1|\n",
      "|[59.7153280715103...|       0|\n",
      "|[72.8454478461203...|       1|\n",
      "|[46.4876993791499...|       1|\n",
      "|[46.4879456457622...|       1|\n",
      "|[73.6881922326108...|       0|\n",
      "|[61.5115209372936...|       0|\n",
      "|[42.9578842109757...|       1|\n",
      "|[58.1384006537894...|       0|\n",
      "|[43.0487346078130...|       0|\n",
      "|[43.0140536964461...|       0|\n",
      "|[53.6294340734905...|       1|\n",
      "|[21.3007963301330...|       0|\n",
      "|[24.1262325123045...|       0|\n",
      "|[41.5656870613854...|       1|\n",
      "|[34.8075331949836...|       1|\n",
      "|[54.7137099889291...|       1|\n",
      "|[36.3796388671818...|       1|\n",
      "|[28.8154444799706...|       0|\n",
      "+--------------------+--------+\n",
      "only showing top 20 rows\n",
      "\n"
     ]
    }
   ],
   "source": [
    "model_input_df = df_with_features.select('features','approved')\n",
    "model_input_df.show()"
   ]
  },
  {
   "cell_type": "code",
   "execution_count": 48,
   "id": "67b5d3be-4b95-413b-b5e3-9df5683b6730",
   "metadata": {},
   "outputs": [],
   "source": [
    "train_df,test_df = model_input_df.randomSplit([0.7,0.3],seed=10)"
   ]
  },
  {
   "cell_type": "code",
   "execution_count": 49,
   "id": "9472b62e-5bee-408b-bd7d-7ce1ab2d4a82",
   "metadata": {},
   "outputs": [
    {
     "name": "stdout",
     "output_type": "stream",
     "text": [
      "+--------------------+--------+\n",
      "|            features|approved|\n",
      "+--------------------+--------+\n",
      "|[1.38098989896391...|       0|\n",
      "|[15.4711825289662...|       0|\n",
      "|[18.9883684994018...|       0|\n",
      "|[19.4115173335984...|       0|\n",
      "|[20.7186830071624...|       0|\n",
      "|[21.3007963301330...|       0|\n",
      "|[21.9910221111237...|       0|\n",
      "|[23.6189077036532...|       0|\n",
      "|[24.1262325123045...|       0|\n",
      "|[24.4492634096726...|       0|\n",
      "|[25.8092619321552...|       0|\n",
      "|[25.8877514815815...|       0|\n",
      "|[25.9033051961364...|       0|\n",
      "|[26.0835851180844...|       1|\n",
      "|[26.7400485340080...|       0|\n",
      "|[27.2094505106898...|       0|\n",
      "|[27.2721340670217...|       0|\n",
      "|[27.2772916297120...|       1|\n",
      "|[27.8221701444885...|       0|\n",
      "|[28.0472757780182...|       0|\n",
      "+--------------------+--------+\n",
      "only showing top 20 rows\n",
      "\n"
     ]
    }
   ],
   "source": [
    "train_df.show()"
   ]
  },
  {
   "cell_type": "code",
   "execution_count": 50,
   "id": "5146864e-6599-4807-9c0a-78a3bee03809",
   "metadata": {},
   "outputs": [
    {
     "name": "stdout",
     "output_type": "stream",
     "text": [
      "+--------------------+--------+\n",
      "|            features|approved|\n",
      "+--------------------+--------+\n",
      "|[10.7038234386538...|       0|\n",
      "|[18.1415641353528...|       0|\n",
      "|[19.6228612001358...|       0|\n",
      "|[20.1864662809866...|       0|\n",
      "|[20.6049481418033...|       0|\n",
      "|[21.2184317705143...|       0|\n",
      "|[23.5543976695589...|       0|\n",
      "|[24.3029820636368...|       1|\n",
      "|[26.9882874389656...|       0|\n",
      "|[28.2787348775401...|       1|\n",
      "|[28.6287772067981...|       0|\n",
      "|[28.8154444799706...|       0|\n",
      "|[29.2580040355349...|       0|\n",
      "|[29.2984781267766...|       0|\n",
      "|[31.7871708081840...|       1|\n",
      "|[31.9955538941633...|       1|\n",
      "|[32.0569006387899...|       1|\n",
      "|[32.1304475419602...|       0|\n",
      "|[33.7767799457840...|       1|\n",
      "|[33.8338283310604...|       1|\n",
      "+--------------------+--------+\n",
      "only showing top 20 rows\n",
      "\n"
     ]
    }
   ],
   "source": [
    "test_df.show()"
   ]
  },
  {
   "cell_type": "code",
   "execution_count": 47,
   "id": "73dd8e78-b50d-4de3-91dd-51092f7f182a",
   "metadata": {},
   "outputs": [],
   "source": [
    "from pyspark.ml.classification import LogisticRegression"
   ]
  },
  {
   "cell_type": "markdown",
   "id": "130d2d09-5d4c-4667-bd70-7e499d0af8f3",
   "metadata": {},
   "source": [
    "## Logistic Regression"
   ]
  },
  {
   "cell_type": "code",
   "execution_count": 55,
   "id": "cab471d9-1f54-4ed6-b9d5-fa503b232834",
   "metadata": {},
   "outputs": [],
   "source": [
    "lr = LogisticRegression(featuresCol='features',labelCol='approved')\n",
    "model_lr=lr.fit(train_df)\n",
    "lr_train_pred = model_lr.transform(train_df)\n",
    "lr_test_pred = model_lr.transform(test_df)"
   ]
  },
  {
   "cell_type": "code",
   "execution_count": 54,
   "id": "cc3baa07-b825-494b-b544-c85a6e0c938a",
   "metadata": {},
   "outputs": [],
   "source": [
    "from pyspark.ml.classification import DecisionTreeClassifier"
   ]
  },
  {
   "cell_type": "markdown",
   "id": "44f24e76-7b39-4ebb-9cb5-bc0e4da1c687",
   "metadata": {},
   "source": [
    "## Decision Tree"
   ]
  },
  {
   "cell_type": "code",
   "execution_count": 56,
   "id": "c4051eea-5350-4654-93f2-1137da8bd8bf",
   "metadata": {},
   "outputs": [],
   "source": [
    "dt = DecisionTreeClassifier(featuresCol='features',labelCol='approved',maxDepth=3,seed=30)\n",
    "dt_model = dt.fit(train_df)\n",
    "dt_train_pred = model_lr.transform(train_df)\n",
    "dt_test_pred = model_lr.transform(test_df)"
   ]
  },
  {
   "cell_type": "code",
   "execution_count": 57,
   "id": "4b15da4c-c780-4d30-84b0-a6eeb4d6ac63",
   "metadata": {},
   "outputs": [],
   "source": [
    "from pyspark.ml.classification import RandomForestClassifier"
   ]
  },
  {
   "cell_type": "markdown",
   "id": "4dddc224-1ab3-458b-bff9-51a8fe6d1749",
   "metadata": {},
   "source": [
    "## Random Forest"
   ]
  },
  {
   "cell_type": "code",
   "execution_count": 58,
   "id": "a94bb5fd-a8f0-4499-8abe-a4290e75eef8",
   "metadata": {},
   "outputs": [],
   "source": [
    "rf = RandomForestClassifier(featuresCol='features',labelCol='approved',maxDepth=3,numTrees=100)\n",
    "model_rf = rf.fit(train_df)\n",
    "rf_train_pred = model_rf.transform(train_df)\n",
    "rf_test_pred = model_rf.transform(test_df)"
   ]
  },
  {
   "cell_type": "markdown",
   "id": "05c09f7e-8704-42b1-ba2e-194b01f642a1",
   "metadata": {},
   "source": [
    "## Model Evaluation"
   ]
  },
  {
   "cell_type": "code",
   "execution_count": 59,
   "id": "5da14587-8234-4e35-b345-f8929ab924e9",
   "metadata": {},
   "outputs": [],
   "source": [
    "from pyspark.ml.evaluation import MulticlassClassificationEvaluator"
   ]
  },
  {
   "cell_type": "code",
   "execution_count": 69,
   "id": "d23009f5-0ae8-4c5b-a64a-4b6c5494cf29",
   "metadata": {},
   "outputs": [],
   "source": [
    "accuracy_evaluator = MulticlassClassificationEvaluator(predictionCol='prediction',labelCol='approved',metricName='accuracy')\n",
    "f1_score_evaluator = MulticlassClassificationEvaluator(predictionCol='prediction',labelCol='approved',metricName='f1')\n",
    "precision_evaluator = MulticlassClassificationEvaluator(predictionCol='prediction',labelCol='approved',metricName='precisionByLabel')\n",
    "recall_evaluator = MulticlassClassificationEvaluator(predictionCol = 'prediction',labelCol='approved',metricName='recallByLabel')\n",
    "\n",
    "def evaluation(model_evaluation_df):\n",
    "    print('Accuracy = ',accuracy_evaluator.evaluate(model_evaluation_df))\n",
    "    print('F1 score = ',f1_score_evaluator.evaluate(model_evaluation_df))\n",
    "    print('Precision = ',precision_evaluator.evaluate(model_evaluation_df))\n",
    "    print('Recall = ',recall_evaluator.evaluate(model_evaluation_df))\n",
    "    model_evaluation_df.groupBy('approved','prediction').count().show()"
   ]
  },
  {
   "cell_type": "markdown",
   "id": "d5d9651f-9c9b-4891-bd39-ef181b97a861",
   "metadata": {},
   "source": [
    "## Logistic Regression Evaluation"
   ]
  },
  {
   "cell_type": "code",
   "execution_count": 70,
   "id": "25a6ca27-02cf-4060-a95e-864fc5ebd7c6",
   "metadata": {},
   "outputs": [
    {
     "name": "stdout",
     "output_type": "stream",
     "text": [
      "Training Performance\n",
      "Accuracy =  0.7543859649122807\n",
      "F1 score =  0.7515432098765431\n",
      "Precision =  0.7058823529411765\n",
      "Recall =  0.631578947368421\n",
      "+--------+----------+-----+\n",
      "|approved|prediction|count|\n",
      "+--------+----------+-----+\n",
      "|       1|       0.0|   35|\n",
      "|       0|       0.0|   84|\n",
      "|       1|       1.0|  174|\n",
      "|       0|       1.0|   49|\n",
      "+--------+----------+-----+\n",
      "\n"
     ]
    }
   ],
   "source": [
    "print('Training Performance')\n",
    "evaluation(lr_train_pred)"
   ]
  },
  {
   "cell_type": "code",
   "execution_count": 71,
   "id": "d8296436-2750-422e-91d8-e4175aba1fcc",
   "metadata": {},
   "outputs": [
    {
     "name": "stdout",
     "output_type": "stream",
     "text": [
      "Testing Performance\n",
      "Accuracy =  0.740506329113924\n",
      "F1 score =  0.7370748122622615\n",
      "Precision =  0.7457627118644068\n",
      "Recall =  0.6285714285714286\n",
      "+--------+----------+-----+\n",
      "|approved|prediction|count|\n",
      "+--------+----------+-----+\n",
      "|       1|       0.0|   15|\n",
      "|       0|       0.0|   44|\n",
      "|       1|       1.0|   73|\n",
      "|       0|       1.0|   26|\n",
      "+--------+----------+-----+\n",
      "\n"
     ]
    }
   ],
   "source": [
    "print('Testing Performance')\n",
    "evaluation(lr_test_pred)"
   ]
  },
  {
   "cell_type": "markdown",
   "id": "95047d29-cc03-43e7-8c60-7a29efb611c2",
   "metadata": {},
   "source": [
    "## Decision Tree"
   ]
  },
  {
   "cell_type": "code",
   "execution_count": 72,
   "id": "272b031a-0e9b-4549-9cb8-71d2c5fae2cf",
   "metadata": {},
   "outputs": [
    {
     "name": "stdout",
     "output_type": "stream",
     "text": [
      "Training Performance\n",
      "Accuracy =  0.7543859649122807\n",
      "F1 score =  0.7515432098765431\n",
      "Precision =  0.7058823529411765\n",
      "Recall =  0.631578947368421\n",
      "+--------+----------+-----+\n",
      "|approved|prediction|count|\n",
      "+--------+----------+-----+\n",
      "|       1|       0.0|   35|\n",
      "|       0|       0.0|   84|\n",
      "|       1|       1.0|  174|\n",
      "|       0|       1.0|   49|\n",
      "+--------+----------+-----+\n",
      "\n"
     ]
    }
   ],
   "source": [
    "print('Training Performance')\n",
    "evaluation(dt_train_pred)"
   ]
  },
  {
   "cell_type": "code",
   "execution_count": 73,
   "id": "f4659044-69f5-4256-b410-f936cdbd22b0",
   "metadata": {},
   "outputs": [
    {
     "name": "stdout",
     "output_type": "stream",
     "text": [
      "Testing Performance\n",
      "Accuracy =  0.740506329113924\n",
      "F1 score =  0.7370748122622615\n",
      "Precision =  0.7457627118644068\n",
      "Recall =  0.6285714285714286\n",
      "+--------+----------+-----+\n",
      "|approved|prediction|count|\n",
      "+--------+----------+-----+\n",
      "|       1|       0.0|   15|\n",
      "|       0|       0.0|   44|\n",
      "|       1|       1.0|   73|\n",
      "|       0|       1.0|   26|\n",
      "+--------+----------+-----+\n",
      "\n"
     ]
    }
   ],
   "source": [
    "print('Testing Performance')\n",
    "evaluation(dt_test_pred)"
   ]
  },
  {
   "cell_type": "markdown",
   "id": "785714c8-5d94-4c6f-9441-c78ed00cc8e7",
   "metadata": {},
   "source": [
    "## Random Forest"
   ]
  },
  {
   "cell_type": "code",
   "execution_count": 74,
   "id": "f6bedb46-b433-4c8c-a24b-43e10e1a1b3e",
   "metadata": {},
   "outputs": [
    {
     "name": "stdout",
     "output_type": "stream",
     "text": [
      "Training Performance\n",
      "Accuracy =  0.9444444444444444\n",
      "F1 score =  0.9438549726050987\n",
      "Precision =  0.975\n",
      "Recall =  0.8796992481203008\n",
      "+--------+----------+-----+\n",
      "|approved|prediction|count|\n",
      "+--------+----------+-----+\n",
      "|       1|       0.0|    3|\n",
      "|       0|       0.0|  117|\n",
      "|       1|       1.0|  206|\n",
      "|       0|       1.0|   16|\n",
      "+--------+----------+-----+\n",
      "\n"
     ]
    }
   ],
   "source": [
    "print('Training Performance')\n",
    "evaluation(rf_train_pred)"
   ]
  },
  {
   "cell_type": "code",
   "execution_count": 75,
   "id": "2fcff650-a10f-43de-a911-caeb6fd5afee",
   "metadata": {},
   "outputs": [
    {
     "name": "stdout",
     "output_type": "stream",
     "text": [
      "Testing Performance\n",
      "Accuracy =  0.9430379746835443\n",
      "F1 score =  0.9428916382811898\n",
      "Precision =  0.9552238805970149\n",
      "Recall =  0.9142857142857143\n",
      "+--------+----------+-----+\n",
      "|approved|prediction|count|\n",
      "+--------+----------+-----+\n",
      "|       1|       0.0|    3|\n",
      "|       0|       0.0|   64|\n",
      "|       1|       1.0|   85|\n",
      "|       0|       1.0|    6|\n",
      "+--------+----------+-----+\n",
      "\n"
     ]
    }
   ],
   "source": [
    "print('Testing Performance')\n",
    "evaluation(rf_test_pred)"
   ]
  },
  {
   "cell_type": "code",
   "execution_count": 76,
   "id": "16ee1585-1c8c-4544-9fba-b20f1c9ed8f7",
   "metadata": {},
   "outputs": [
    {
     "name": "stdout",
     "output_type": "stream",
     "text": [
      "Collecting mrjob\n",
      "  Downloading mrjob-0.7.4-py2.py3-none-any.whl.metadata (7.3 kB)\n",
      "Requirement already satisfied: PyYAML>=3.10 in c:\\users\\shan\\.conda\\envs\\ml_venv\\lib\\site-packages (from mrjob) (6.0.2)\n",
      "Downloading mrjob-0.7.4-py2.py3-none-any.whl (439 kB)\n",
      "Installing collected packages: mrjob\n",
      "Successfully installed mrjob-0.7.4\n"
     ]
    }
   ],
   "source": [
    "!pip install mrjob"
   ]
  },
  {
   "cell_type": "code",
   "execution_count": 77,
   "id": "3ac4f4ad-4846-4081-bfae-283f6e6bc6d8",
   "metadata": {},
   "outputs": [
    {
     "name": "stderr",
     "output_type": "stream",
     "text": [
      "usage: ipykernel_launcher.py [options] [input files]\n",
      "ipykernel_launcher.py: error: unrecognized arguments: -f\n"
     ]
    },
    {
     "ename": "SystemExit",
     "evalue": "2",
     "output_type": "error",
     "traceback": [
      "An exception has occurred, use %tb to see the full traceback.\n",
      "\u001b[31mSystemExit\u001b[39m\u001b[31m:\u001b[39m 2\n"
     ]
    },
    {
     "name": "stderr",
     "output_type": "stream",
     "text": [
      "C:\\Users\\Shan\\.conda\\envs\\ml_venv\\Lib\\site-packages\\IPython\\core\\interactiveshell.py:3675: UserWarning: To exit: use 'exit', 'quit', or Ctrl-D.\n",
      "  warn(\"To exit: use 'exit', 'quit', or Ctrl-D.\", stacklevel=1)\n"
     ]
    }
   ],
   "source": [
    "from mrjob.job import MRJob\n",
    "\n",
    "class AvgApprovalAge(MRJob):\n",
    "  def mapper(self, _, line):\n",
    "    entries = line.split(',')\n",
    "    if entries[1] == 'income':\n",
    "      return\n",
    "    age = int(entries[6])\n",
    "    approved = int(entries[7])\n",
    "    yield (approved, age)\n",
    "\n",
    "  def reducer(self, key, values):\n",
    "    values = list(values)\n",
    "    yield (key, sum(values)/len(values))\n",
    "\n",
    "if __name__ == \"__main__\":\n",
    "  AvgApprovalAge.run()"
   ]
  },
  {
   "cell_type": "code",
   "execution_count": 78,
   "id": "43cdb720-1fa7-4328-822b-6914e5f6641d",
   "metadata": {},
   "outputs": [
    {
     "name": "stdout",
     "output_type": "stream",
     "text": [
      "1\t22\n",
      "1\t18\n",
      "0\t34\n",
      "1\t39\n",
      "1\t51\n",
      "1\t62\n",
      "0\t58\n",
      "0\t46\n",
      "1\t21\n",
      "0\t22\n",
      "0\t28\n",
      "0\t68\n",
      "1\t38\n",
      "0\t52\n",
      "0\t29\n",
      "1\t43\n",
      "1\t68\n",
      "1\t36\n",
      "1\t62\n",
      "0\t24\n",
      "0\t64\n",
      "0\t24\n",
      "1\t43\n",
      "0\t57\n",
      "0\t22\n",
      "0\t38\n",
      "0\t31\n",
      "1\t21\n",
      "1\t40\n",
      "1\t59\n",
      "1\t37\n",
      "0\t32\n",
      "1\t67\n",
      "0\t69\n",
      "1\t62\n",
      "0\t46\n",
      "1\t25\n",
      "0\t58\n",
      "0\t65\n",
      "1\t36\n",
      "1\t65\n",
      "0\t56\n",
      "0\t63\n",
      "1\t45\n",
      "0\t63\n",
      "0\t44\n",
      "1\t21\n",
      "1\t32\n",
      "1\t52\n",
      "0\t54\n",
      "1\t18\n",
      "1\t20\n",
      "1\t64\n",
      "1\t41\n",
      "1\t44\n",
      "1\t57\n",
      "1\t53\n",
      "1\t51\n",
      "1\t46\n",
      "1\t41\n",
      "0\t41\n",
      "1\t59\n",
      "0\t21\n",
      "1\t20\n",
      "0\t51\n",
      "1\t66\n",
      "0\t40\n",
      "0\t69\n",
      "0\t40\n",
      "1\t62\n",
      "1\t22\n",
      "1\t48\n",
      "1\t58\n",
      "1\t23\n",
      "0\t54\n",
      "0\t27\n",
      "1\t57\n",
      "0\t24\n",
      "0\t56\n",
      "0\t55\n",
      "1\t38\n",
      "1\t37\n",
      "0\t20\n",
      "0\t68\n",
      "1\t39\n",
      "1\t64\n",
      "1\t21\n",
      "1\t45\n",
      "0\t29\n",
      "1\t55\n",
      "1\t68\n",
      "1\t53\n",
      "1\t64\n",
      "1\t58\n",
      "1\t22\n",
      "0\t30\n",
      "1\t40\n",
      "1\t67\n",
      "1\t47\n",
      "1\t54\n",
      "0\t42\n",
      "1\t65\n",
      "0\t44\n",
      "0\t68\n",
      "0\t31\n",
      "0\t65\n",
      "1\t64\n",
      "0\t53\n",
      "0\t56\n",
      "0\t33\n",
      "0\t39\n",
      "1\t38\n",
      "1\t38\n",
      "0\t25\n",
      "1\t66\n",
      "1\t33\n",
      "0\t48\n",
      "0\t59\n",
      "1\t27\n",
      "1\t49\n",
      "1\t51\n",
      "0\t26\n",
      "0\t34\n",
      "1\t28\n",
      "1\t49\n",
      "1\t27\n",
      "0\t39\n",
      "1\t34\n",
      "1\t21\n",
      "1\t65\n",
      "0\t69\n",
      "1\t64\n",
      "0\t42\n",
      "1\t38\n",
      "0\t54\n",
      "0\t55\n",
      "0\t66\n",
      "0\t18\n",
      "0\t42\n",
      "0\t68\n",
      "1\t53\n",
      "1\t34\n",
      "0\t58\n",
      "0\t41\n",
      "1\t19\n",
      "0\t57\n",
      "0\t32\n",
      "1\t49\n",
      "0\t56\n",
      "0\t23\n",
      "1\t18\n",
      "1\t64\n",
      "1\t40\n",
      "0\t56\n",
      "1\t34\n",
      "0\t51\n",
      "1\t58\n",
      "1\t46\n",
      "0\t26\n",
      "0\t30\n",
      "1\t23\n",
      "1\t23\n",
      "1\t37\n",
      "1\t69\n",
      "1\t20\n",
      "1\t34\n",
      "1\t66\n",
      "1\t29\n",
      "0\t65\n",
      "1\t64\n",
      "0\t62\n",
      "0\t18\n",
      "1\t34\n",
      "0\t20\n",
      "0\t43\n",
      "1\t32\n",
      "0\t53\n",
      "1\t49\n",
      "1\t49\n",
      "1\t21\n",
      "1\t35\n",
      "0\t66\n",
      "0\t36\n",
      "1\t60\n",
      "0\t69\n",
      "1\t52\n",
      "1\t57\n",
      "1\t31\n",
      "1\t50\n",
      "1\t31\n",
      "1\t51\n",
      "0\t21\n",
      "0\t41\n",
      "0\t46\n",
      "1\t36\n",
      "1\t23\n",
      "0\t50\n",
      "0\t66\n",
      "1\t57\n",
      "0\t36\n",
      "1\t18\n",
      "1\t22\n",
      "1\t44\n",
      "0\t33\n",
      "0\t23\n",
      "1\t57\n",
      "0\t30\n",
      "1\t65\n",
      "0\t52\n",
      "1\t36\n",
      "0\t29\n",
      "1\t33\n",
      "1\t60\n",
      "0\t27\n",
      "1\t42\n",
      "1\t37\n",
      "0\t48\n",
      "1\t21\n",
      "1\t61\n",
      "0\t40\n",
      "0\t19\n",
      "0\t39\n",
      "0\t68\n",
      "0\t54\n",
      "1\t25\n",
      "1\t24\n",
      "1\t31\n",
      "1\t20\n",
      "0\t67\n",
      "1\t33\n",
      "1\t36\n",
      "1\t68\n",
      "1\t35\n",
      "0\t69\n",
      "0\t33\n",
      "0\t25\n",
      "0\t50\n",
      "0\t66\n",
      "1\t29\n",
      "0\t28\n",
      "0\t22\n",
      "0\t44\n",
      "1\t29\n",
      "1\t34\n",
      "1\t23\n",
      "1\t50\n",
      "1\t22\n",
      "1\t45\n",
      "1\t31\n",
      "0\t22\n",
      "0\t50\n",
      "0\t67\n",
      "1\t65\n",
      "1\t58\n",
      "0\t36\n",
      "0\t39\n",
      "1\t22\n",
      "1\t19\n",
      "1\t47\n",
      "1\t64\n",
      "1\t56\n",
      "1\t21\n",
      "0\t50\n",
      "0\t30\n",
      "1\t37\n",
      "1\t24\n",
      "1\t32\n",
      "1\t40\n",
      "1\t31\n",
      "1\t40\n",
      "1\t36\n",
      "0\t46\n",
      "1\t37\n",
      "0\t46\n",
      "0\t41\n",
      "0\t35\n",
      "0\t27\n",
      "1\t58\n",
      "1\t25\n",
      "1\t43\n",
      "0\t46\n",
      "0\t27\n",
      "0\t34\n",
      "0\t19\n",
      "1\t23\n",
      "0\t22\n",
      "1\t45\n",
      "1\t58\n",
      "1\t22\n",
      "0\t35\n",
      "1\t43\n",
      "0\t37\n",
      "1\t58\n",
      "0\t66\n",
      "0\t44\n",
      "1\t66\n",
      "1\t29\n",
      "1\t24\n",
      "1\t20\n",
      "1\t27\n",
      "1\t51\n",
      "0\t42\n",
      "1\t52\n",
      "1\t33\n",
      "1\t19\n",
      "1\t41\n",
      "0\t27\n",
      "1\t55\n",
      "1\t39\n",
      "1\t43\n",
      "1\t60\n",
      "1\t56\n",
      "1\t44\n",
      "1\t46\n",
      "1\t64\n",
      "0\t55\n",
      "1\t37\n",
      "1\t44\n",
      "1\t58\n",
      "1\t37\n",
      "1\t61\n",
      "1\t36\n",
      "1\t37\n",
      "1\t52\n",
      "1\t64\n",
      "1\t19\n",
      "0\t47\n",
      "1\t51\n",
      "1\t39\n",
      "1\t20\n",
      "0\t23\n",
      "0\t32\n",
      "0\t44\n",
      "0\t27\n",
      "1\t26\n",
      "1\t50\n",
      "1\t49\n",
      "0\t65\n",
      "1\t23\n",
      "0\t58\n",
      "1\t53\n",
      "1\t19\n",
      "0\t46\n",
      "1\t21\n",
      "1\t18\n",
      "1\t36\n",
      "1\t43\n",
      "0\t42\n",
      "1\t27\n",
      "0\t32\n",
      "1\t39\n",
      "1\t68\n",
      "1\t65\n",
      "1\t38\n",
      "1\t39\n",
      "1\t53\n",
      "1\t51\n",
      "1\t47\n",
      "1\t42\n",
      "1\t62\n",
      "1\t45\n",
      "0\t18\n",
      "1\t66\n",
      "1\t62\n",
      "1\t21\n",
      "1\t24\n",
      "0\t66\n",
      "1\t26\n",
      "1\t53\n",
      "1\t36\n",
      "1\t18\n",
      "1\t27\n",
      "0\t53\n",
      "0\t26\n",
      "1\t62\n",
      "1\t63\n",
      "1\t59\n",
      "1\t49\n",
      "1\t49\n",
      "0\t23\n",
      "0\t65\n",
      "1\t55\n",
      "0\t34\n",
      "1\t27\n",
      "0\t67\n",
      "0\t44\n",
      "1\t67\n",
      "0\t52\n",
      "1\t69\n",
      "1\t38\n",
      "0\t42\n",
      "1\t45\n",
      "0\t64\n",
      "1\t32\n",
      "1\t21\n",
      "1\t46\n",
      "1\t26\n",
      "1\t44\n",
      "1\t43\n",
      "1\t36\n",
      "1\t45\n",
      "1\t34\n",
      "1\t60\n",
      "0\t58\n",
      "0\t59\n",
      "1\t67\n",
      "0\t37\n",
      "0\t62\n",
      "1\t57\n",
      "1\t56\n",
      "1\t66\n",
      "0\t40\n",
      "0\t64\n",
      "1\t49\n",
      "1\t69\n",
      "0\t64\n",
      "0\t50\n",
      "1\t63\n",
      "1\t22\n",
      "1\t60\n",
      "1\t65\n",
      "0\t51\n",
      "1\t57\n",
      "1\t28\n",
      "1\t67\n",
      "0\t20\n",
      "0\t50\n",
      "1\t28\n",
      "1\t33\n",
      "0\t35\n",
      "0\t47\n",
      "0\t65\n",
      "0\t27\n",
      "0\t35\n",
      "1\t55\n",
      "1\t36\n",
      "0\t53\n",
      "0\t30\n",
      "0\t63\n",
      "1\t20\n",
      "0\t27\n",
      "0\t55\n",
      "0\t18\n",
      "1\t44\n",
      "0\t63\n",
      "0\t25\n",
      "0\t68\n",
      "1\t63\n",
      "0\t59\n",
      "0\t34\n",
      "1\t26\n",
      "1\t23\n",
      "0\t60\n",
      "1\t42\n",
      "1\t56\n",
      "1\t66\n",
      "1\t45\n",
      "1\t50\n",
      "0\t54\n",
      "0\t26\n",
      "0\t35\n",
      "1\t38\n",
      "1\t19\n",
      "1\t60\n",
      "1\t55\n",
      "1\t57\n",
      "1\t53\n",
      "1\t67\n",
      "1\t60\n",
      "0\t54\n",
      "0\t32\n",
      "0\t45\n",
      "0\t35\n",
      "0\t51\n",
      "1\t39\n",
      "0\t28\n",
      "1\t30\n",
      "0\t21\n",
      "0\t39\n",
      "1\t24\n",
      "0\t60\n",
      "1\t41\n",
      "0\t21\n",
      "1\t45\n",
      "1\t32\n",
      "0\t18\n",
      "1\t20\n",
      "1\t31\n",
      "1\t55\n",
      "0\t67\n",
      "1\t18\n",
      "0\t55\n",
      "1\t55\n",
      "1\t38\n",
      "0\t65\n",
      "1\t46\n",
      "0\t22\n",
      "1\t66\n",
      "0\t27\n",
      "0\t45\n"
     ]
    }
   ],
   "source": [
    "!python mr.py --mapper loan_data.csv"
   ]
  },
  {
   "cell_type": "code",
   "execution_count": null,
   "id": "fb32b9df-a089-4dbf-92cd-a834c36044bf",
   "metadata": {},
   "outputs": [],
   "source": []
  }
 ],
 "metadata": {
  "kernelspec": {
   "display_name": "Python 3 (ipykernel)",
   "language": "python",
   "name": "python3"
  },
  "language_info": {
   "codemirror_mode": {
    "name": "ipython",
    "version": 3
   },
   "file_extension": ".py",
   "mimetype": "text/x-python",
   "name": "python",
   "nbconvert_exporter": "python",
   "pygments_lexer": "ipython3",
   "version": "3.11.13"
  }
 },
 "nbformat": 4,
 "nbformat_minor": 5
}
